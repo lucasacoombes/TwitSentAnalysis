{
 "cells": [
  {
   "cell_type": "markdown",
   "metadata": {},
   "source": [
    "# Twitter Sentiment Analysis - Query List\n",
    "\n",
    "This notebook outlines the process of implementing a basic sentiment analysis of recent Twitter posts on an input of a list of query terms utilizing the NLP API *Textblob*."
   ]
  },
  {
   "cell_type": "markdown",
   "metadata": {},
   "source": [
    "__1. Import neccessary packages__"
   ]
  },
  {
   "cell_type": "code",
   "execution_count": 43,
   "metadata": {},
   "outputs": [],
   "source": [
    "import tweepy\n",
    "from textblob import TextBlob\n",
    "import numpy as np\n",
    "import csv\n",
    "import operator\n",
    "import matplotlib.pyplot as plt\n",
    "%matplotlib inline "
   ]
  },
  {
   "cell_type": "markdown",
   "metadata": {},
   "source": [
    "__2. Initialize twitter API__"
   ]
  },
  {
   "cell_type": "code",
   "execution_count": 44,
   "metadata": {},
   "outputs": [],
   "source": [
    "consumer_key = \"Your consumer key here\"\n",
    "consumer_secret = \"your secret consumer key here\"\n",
    "\n",
    "access_token = \"your access token here\"\n",
    "access_token_secret = \"your secret access token here\"\n",
    "\n",
    "consumer_key = 'h0ybrNidRCgnJq3gX6ljOOJDo'\n",
    "consumer_secret = 'hA40WyAzXZ5OPwDIMk9Mp6oclKMehcN8mXebvJ5zKcKDuPuKqO'\n",
    "\n",
    "access_token = '1006301444348305408-rQAVZ2jWL4GL0PdBy7IA40qr3IwfUr'\n",
    "access_token_secret = 't11bxL6A9M4GZjqYP8geOKXQjRumlzz3bCgcen0Ay5CzO'\n",
    "\n",
    "\n",
    "auth = tweepy.OAuthHandler(consumer_key, consumer_secret)\n",
    "auth.set_access_token(access_token, access_token_secret)\n",
    "\n",
    "api = tweepy.API(auth)"
   ]
  },
  {
   "cell_type": "markdown",
   "metadata": {},
   "source": [
    "__3. Set search parameters__"
   ]
  },
  {
   "cell_type": "code",
   "execution_count": 45,
   "metadata": {},
   "outputs": [],
   "source": [
    "query_terms = ['baidu','alibaba','jd.com','tencent','xiaomi']\n",
    "\n",
    "#defines the number of tweets to pull\n",
    "amount = 10 "
   ]
  },
  {
   "cell_type": "markdown",
   "metadata": {},
   "source": [
    "__4. Define a label for positive and negative values__"
   ]
  },
  {
   "cell_type": "code",
   "execution_count": 46,
   "metadata": {},
   "outputs": [],
   "source": [
    "def sentiment_label(analysis, threshold = 0):\n",
    "        if analysis.sentiment[0]>threshold:\n",
    "            return 'Positive'\n",
    "        else:\n",
    "            return 'Negative'"
   ]
  },
  {
   "cell_type": "markdown",
   "metadata": {},
   "source": [
    "__5. Retrieve and save mean polrity data of queiries__"
   ]
  },
  {
   "cell_type": "code",
   "execution_count": 47,
   "metadata": {},
   "outputs": [],
   "source": [
    "polarities = {}\n",
    "for query in query_terms:\n",
    "    query_polarity = []\n",
    "    #Collect tweets (Twitter API)\n",
    "    tweets = api.search(q=query, count = amount, lang = 'en', result_type = 'recent' )\n",
    "    #save data to csv (csv module)\n",
    "    with open ('%s_tweets.csv' % query, 'w+') as query_tweets:\n",
    "        query_tweets.write('tweet,sentiment_label\\n')\n",
    "        for tweet in tweets:\n",
    "            analysis = TextBlob(tweet.text)\n",
    "            #retrieve label of sentiment analysis\n",
    "            query_polarity.append(analysis.sentiment[0])\n",
    "            query_tweets.write('%s,%s\\n' % (tweet.text.encode('utf8'), sentiment_label(analysis)))\n",
    "    #save mean for result of analysis (numpy) \n",
    "    polarities[query]=np.mean(query_polarity)"
   ]
  },
  {
   "cell_type": "markdown",
   "metadata": {},
   "source": [
    "__6. Sort and print chart of analysis outcome__\n"
   ]
  },
  {
   "cell_type": "code",
   "execution_count": 52,
   "metadata": {},
   "outputs": [
    {
     "name": "stdout",
     "output_type": "stream",
     "text": [
      "[('baidu', 0.21642857142857141), ('xiaomi', 0.17592592592592593), ('alibaba', 0.10454545454545454), ('jd.com', 0.022499999999999996), ('tencent', -0.04420995670995672)]\n",
      "Mean Sentiment Polarity in descending order :\n",
      "baidu : 0.216\n",
      "xiaomi : 0.176\n",
      "alibaba : 0.105\n",
      "jd.com : 0.022\n",
      "tencent : -0.044\n"
     ]
    }
   ],
   "source": [
    "sorted_analysis = sorted(list(polarities.items()), key=operator.itemgetter(1), reverse=True)\n",
    "print(sorted_analysis)\n",
    "print ('Mean Sentiment Polarity in descending order :')\n",
    "for query, polarity in sorted_analysis:\n",
    "\tprint ('%s : %0.3f' % (query, polarity))\n"
   ]
  },
  {
   "cell_type": "markdown",
   "metadata": {},
   "source": [
    "__7. Plot the Results of the senitiment analysis__"
   ]
  },
  {
   "cell_type": "code",
   "execution_count": 62,
   "metadata": {},
   "outputs": [
    {
     "data": {
      "text/plain": [
       "<Container object of 5 artists>"
      ]
     },
     "execution_count": 62,
     "metadata": {},
     "output_type": "execute_result"
    },
    {
     "data": {
      "image/png": "[encoded data removed]",
      "text/plain": [
       "<matplotlib.figure.Figure at 0x13fa330>"
      ]
     },
     "metadata": {},
     "output_type": "display_data"
    }
   ],
   "source": [
    "x, y = zip(*sorted_analysis)\n",
    "width = 1\n",
    "plt.bar(x, y, width, align='center')"
   ]
  }
 ],
 "metadata": {
  "kernelspec": {
   "display_name": "Python 3",
   "language": "python",
   "name": "python3"
  },
  "language_info": {
   "codemirror_mode": {
    "name": "ipython",
    "version": 3
   },
   "file_extension": ".py",
   "mimetype": "text/x-python",
   "name": "python",
   "nbconvert_exporter": "python",
   "pygments_lexer": "ipython3",
   "version": "3.6.3"
  }
 },
 "nbformat": 4,
 "nbformat_minor": 2
}
